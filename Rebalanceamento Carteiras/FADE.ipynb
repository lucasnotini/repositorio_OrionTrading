{
 "cells": [
  {
   "cell_type": "code",
   "execution_count": null,
   "id": "863dd6bc",
   "metadata": {},
   "outputs": [],
   "source": [
    "import pandas as pd"
   ]
  },
  {
   "cell_type": "markdown",
   "id": "66dfc28d",
   "metadata": {},
   "source": [
    "# IMPORTA PLANILHA LONGA E CURTA ORB 60"
   ]
  },
  {
   "cell_type": "markdown",
   "id": "fc8e87a9",
   "metadata": {},
   "source": [
    "### Coloque o endereço da planilha longa, curta e de ativos dentro das variáveis"
   ]
  },
  {
   "cell_type": "code",
   "execution_count": null,
   "id": "621cc10f",
   "metadata": {},
   "outputs": [],
   "source": [
    "planilha1 = pd.read_excel(\"FADE OR ADX 30 1 ANO.xlsx\")\n",
    "planilha2 = pd.read_excel(\"FADE OR ADX 30 3 MESES.xlsx\")\n",
    "planAtivos = pd.read_excel(\"ATIVOS.xlsx\")"
   ]
  },
  {
   "cell_type": "code",
   "execution_count": null,
   "id": "01f83518",
   "metadata": {},
   "outputs": [],
   "source": [
    "#cria variaveis de parametros\n",
    "#pegar nMaiores\n",
    "nMaiores = 10"
   ]
  },
  {
   "cell_type": "code",
   "execution_count": null,
   "id": "c31b7530",
   "metadata": {
    "scrolled": false
   },
   "outputs": [],
   "source": [
    "planilha1"
   ]
  },
  {
   "cell_type": "code",
   "execution_count": null,
   "id": "c6a93da7",
   "metadata": {},
   "outputs": [],
   "source": [
    "planilha1 = planilha1.sort_values('Pass');\n",
    "planilha1 = planilha1.set_index('Pass')\n",
    "planilha1['ATIVOS'] = planAtivos['ATIVO']\n",
    "\n",
    "planilha1"
   ]
  },
  {
   "cell_type": "code",
   "execution_count": null,
   "id": "4b73466c",
   "metadata": {},
   "outputs": [],
   "source": [
    "planilha1 = planilha1[planilha1['Profit Factor'] > 1.1]\n",
    "planilha1"
   ]
  },
  {
   "cell_type": "code",
   "execution_count": null,
   "id": "49bdb712",
   "metadata": {},
   "outputs": [],
   "source": [
    "planilha2 = planilha2.sort_values('Pass')\n",
    "planilha2 = planilha2.set_index('Pass')\n",
    "planilha2"
   ]
  },
  {
   "cell_type": "code",
   "execution_count": null,
   "id": "9c92dd0d",
   "metadata": {
    "scrolled": true
   },
   "outputs": [],
   "source": [
    "planilha2['FILTRADOS'] = planilha1['ATIVOS']\n",
    "planilha2"
   ]
  },
  {
   "cell_type": "code",
   "execution_count": null,
   "id": "711e9cf3",
   "metadata": {},
   "outputs": [],
   "source": [
    "planilha2 = planilha2.dropna()\n",
    "planilha2"
   ]
  },
  {
   "cell_type": "code",
   "execution_count": null,
   "id": "052a5319",
   "metadata": {},
   "outputs": [],
   "source": [
    "planilha2 = planilha2.sort_values('Profit Factor', ascending = False)\n",
    "planilha2"
   ]
  },
  {
   "cell_type": "code",
   "execution_count": null,
   "id": "2404a9eb",
   "metadata": {},
   "outputs": [],
   "source": [
    "planilha2.FILTRADOS.head(nMaiores)"
   ]
  },
  {
   "cell_type": "code",
   "execution_count": null,
   "id": "d8c7eae2",
   "metadata": {},
   "outputs": [],
   "source": [
    "planilha2.Profit"
   ]
  },
  {
   "cell_type": "code",
   "execution_count": null,
   "id": "867d0068",
   "metadata": {},
   "outputs": [],
   "source": [
    "#exporta usando método .to_excel\n",
    "planilha2.to_excel('Relatorio FADE ADX.xlsx')"
   ]
  },
  {
   "cell_type": "code",
   "execution_count": null,
   "id": "e06bcfcd",
   "metadata": {},
   "outputs": [],
   "source": []
  }
 ],
 "metadata": {
  "kernelspec": {
   "display_name": "Python 3 (ipykernel)",
   "language": "python",
   "name": "python3"
  },
  "language_info": {
   "codemirror_mode": {
    "name": "ipython",
    "version": 3
   },
   "file_extension": ".py",
   "mimetype": "text/x-python",
   "name": "python",
   "nbconvert_exporter": "python",
   "pygments_lexer": "ipython3",
   "version": "3.9.7"
  }
 },
 "nbformat": 4,
 "nbformat_minor": 5
}
